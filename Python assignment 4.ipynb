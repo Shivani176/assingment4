{
 "cells": [
  {
   "cell_type": "markdown",
   "metadata": {},
   "source": [
    "1.1 Write a Python Program(with class concepts) to find the area of the triangle using the below\n",
    "formula.\n",
    "\n",
    "area = (s*(s-a)*(s-b)*(s-c)) ** 0.5\n",
    "\n",
    "Function to take the length of the sides of triangle from user should be defined in the parent\n",
    "class and function to calculate the area should be defined in subclass."
   ]
  },
  {
   "cell_type": "code",
   "execution_count": 1,
   "metadata": {},
   "outputs": [],
   "source": [
    "class Triangle:\n",
    " def __init__(self, s1, s2, s3):\n",
    "  self.s1 = s1\n",
    "  self.s2 = s2\n",
    "  self.s3 = s3\n",
    "  print (\"Initialising Triangle parent class [\" +  str(s1) + \",\" + str(s2) + \",\" + str(s3) + \"]\")\n",
    "#s=side of the triangle"
   ]
  },
  {
   "cell_type": "code",
   "execution_count": 2,
   "metadata": {},
   "outputs": [],
   "source": [
    "class Triangle_Utilities(Triangle):\n",
    " \n",
    " def __init__(self, s1, s2, s3):\n",
    "  print (\"Initialising Utils child class\" )\n",
    "  super(Triangle_Utilities, self).__init__(s1, s2, s3)\n",
    "\n",
    " def get_area(self):\n",
    "  s = (self.s1 + self.s2 + self.s3)/2\n",
    "  print (str(s))\n",
    "  return (s*(s-self.s1)*(s-self.s2)*(s-self.s3))**0.5\n"
   ]
  },
  {
   "cell_type": "code",
   "execution_count": 3,
   "metadata": {},
   "outputs": [
    {
     "name": "stdout",
     "output_type": "stream",
     "text": [
      "Initialising Utils child class\n",
      "Initialising Triangle parent class [12,13,15]\n",
      "20.0\n",
      "Area of the Triangle: 74.83314773547883\n"
     ]
    }
   ],
   "source": [
    "instance = Triangle_Utilities(12,13,15)\n",
    "print (\"Area of the Triangle: \" + str(instance.get_area()) )"
   ]
  },
  {
   "cell_type": "markdown",
   "metadata": {},
   "source": [
    "1.2 Write a function filter_long_words() that takes a list of words and an integer n and returns\n",
    "the list of words that are longer than n."
   ]
  },
  {
   "cell_type": "code",
   "execution_count": 4,
   "metadata": {},
   "outputs": [],
   "source": [
    "def filter_long_words(l,a):\n",
    "    words=[]\n",
    "    for j in l:\n",
    "        if(len(j)>=a):\n",
    "            words.append(j)\n",
    "    return words"
   ]
  },
  {
   "cell_type": "code",
   "execution_count": 10,
   "metadata": {},
   "outputs": [
    {
     "name": "stdout",
     "output_type": "stream",
     "text": [
      "Enter words:sheild, monsters, miami, mercedes, youtube, inception, apple\n",
      "Enter Min Length:7\n",
      "Words with at least min length: [' monsters', ' mercedes', ' youtube', ' inception']\n"
     ]
    }
   ],
   "source": [
    "n=input(\"Enter words:\")\n",
    "nt=n.split(\",\")\n",
    "na=input(\"Enter Min Length:\")\n",
    "long=filter_long_words(nt,int(na))\n",
    "\n",
    "print(\"Words with at least min length:\",long)"
   ]
  },
  {
   "cell_type": "markdown",
   "metadata": {},
   "source": [
    "2.1 Write a Python program using function concept that maps list of words into a list of integers representing the lengths of the corresponding words.\n",
    "\n",
    "Hint: If a list [ ab,cde,erty] is passed on to the python function output should come as [2,3,4]\n",
    "Here 2,3 and 4 are the lengths of the words in the list."
   ]
  },
  {
   "cell_type": "code",
   "execution_count": 11,
   "metadata": {},
   "outputs": [],
   "source": [
    "words = [\"Be\", \"your\", \"own\", \"anchor\"]"
   ]
  },
  {
   "cell_type": "code",
   "execution_count": 13,
   "metadata": {},
   "outputs": [
    {
     "name": "stdout",
     "output_type": "stream",
     "text": [
      "lengths of the words in the list: [2, 4, 3, 6]\n"
     ]
    }
   ],
   "source": [
    "def wordlength(words):\n",
    " return list(map(lambda x: len(x), words))\n",
    "\n",
    "print (\"lengths of the words in the list: \" + str(wordlength(words)))"
   ]
  },
  {
   "cell_type": "markdown",
   "metadata": {},
   "source": [
    "2.2 Write a Python function which takes a character (i.e. a string of length 1) and returns True if it is a vowel, False otherwise."
   ]
  },
  {
   "cell_type": "code",
   "execution_count": 15,
   "metadata": {},
   "outputs": [],
   "source": [
    "def checkVowel(char):\n",
    " if(char == 'a' or char == 'e' or char == 'i' or char == 'o' or char == 'u'):\n",
    "  return True\n",
    " else:\n",
    "  return False"
   ]
  },
  {
   "cell_type": "code",
   "execution_count": 16,
   "metadata": {},
   "outputs": [
    {
     "name": "stdout",
     "output_type": "stream",
     "text": [
      "Enter character: d\n",
      "d is not a vowel.\n"
     ]
    }
   ],
   "source": [
    "char = input(\"Enter character: \");\n",
    "if (char.isalpha() == False):\n",
    " exit();\n",
    "if (checkVowel(char)):\n",
    " print(char, \"is a vowel.\");\n",
    "else:\n",
    " print(char, \"is not a vowel.\"); "
   ]
  },
  {
   "cell_type": "code",
   "execution_count": null,
   "metadata": {},
   "outputs": [],
   "source": []
  }
 ],
 "metadata": {
  "kernelspec": {
   "display_name": "Python 3",
   "language": "python",
   "name": "python3"
  },
  "language_info": {
   "codemirror_mode": {
    "name": "ipython",
    "version": 3
   },
   "file_extension": ".py",
   "mimetype": "text/x-python",
   "name": "python",
   "nbconvert_exporter": "python",
   "pygments_lexer": "ipython3",
   "version": "3.7.3"
  }
 },
 "nbformat": 4,
 "nbformat_minor": 2
}
